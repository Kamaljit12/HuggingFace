{
 "cells": [
  {
   "cell_type": "markdown",
   "metadata": {},
   "source": [
    "# HuggingFace Tutorial"
   ]
  },
  {
   "cell_type": "code",
   "execution_count": 1,
   "metadata": {},
   "outputs": [
    {
     "name": "stdout",
     "output_type": "stream",
     "text": [
      "HuggingFace\n"
     ]
    }
   ],
   "source": [
    "print(\"HuggingFace\")"
   ]
  },
  {
   "cell_type": "code",
   "execution_count": 2,
   "metadata": {},
   "outputs": [
    {
     "data": {
      "text/plain": [
       "True"
      ]
     },
     "execution_count": 2,
     "metadata": {},
     "output_type": "execute_result"
    }
   ],
   "source": [
    "import os\n",
    "from dotenv import load_dotenv\n",
    "load_dotenv()"
   ]
  },
  {
   "cell_type": "code",
   "execution_count": 3,
   "metadata": {},
   "outputs": [],
   "source": [
    "## assigning HT token in my environment\n",
    "os.environ['HF_TOKEN'] = os.getenv('HF_TOKEN')"
   ]
  },
  {
   "cell_type": "markdown",
   "metadata": {},
   "source": [
    "### Sentence transormer on huggingface"
   ]
  },
  {
   "cell_type": "code",
   "execution_count": 4,
   "metadata": {},
   "outputs": [
    {
     "name": "stderr",
     "output_type": "stream",
     "text": [
      "/home/codespace/.python/current/lib/python3.12/site-packages/tqdm/auto.py:21: TqdmWarning: IProgress not found. Please update jupyter and ipywidgets. See https://ipywidgets.readthedocs.io/en/stable/user_install.html\n",
      "  from .autonotebook import tqdm as notebook_tqdm\n"
     ]
    }
   ],
   "source": [
    "from langchain_huggingface import HuggingFaceEmbeddings\n",
    "\n",
    "embeddings = HuggingFaceEmbeddings(model_name='all-MiniLM-L6-v2')"
   ]
  },
  {
   "cell_type": "code",
   "execution_count": 5,
   "metadata": {},
   "outputs": [],
   "source": [
    "text_docs = \"This is my test documents\"\n",
    "\n",
    "query = embeddings.embed_query(text_docs)"
   ]
  },
  {
   "cell_type": "code",
   "execution_count": 6,
   "metadata": {},
   "outputs": [
    {
     "data": {
      "text/plain": [
       "384"
      ]
     },
     "execution_count": 6,
     "metadata": {},
     "output_type": "execute_result"
    }
   ],
   "source": [
    "## dimention of this vector\n",
    "len(query)"
   ]
  },
  {
   "cell_type": "code",
   "execution_count": 7,
   "metadata": {},
   "outputs": [],
   "source": [
    "text_docs2 = \"\"\"\n",
    "This is line one.\n",
    "This is another one line.\n",
    "This is another third docs for testing.\n",
    "\"\"\"\n",
    "query2 = embeddings.embed_documents(text_docs2)"
   ]
  },
  {
   "cell_type": "code",
   "execution_count": 8,
   "metadata": {},
   "outputs": [
    {
     "data": {
      "text/plain": [
       "85"
      ]
     },
     "execution_count": 8,
     "metadata": {},
     "output_type": "execute_result"
    }
   ],
   "source": [
    "len(query2)"
   ]
  },
  {
   "cell_type": "code",
   "execution_count": 9,
   "metadata": {},
   "outputs": [
    {
     "name": "stdout",
     "output_type": "stream",
     "text": [
      "[[-0.019978979602456093, 0.09490571171045303, -0.0383366197347641, 0.041137173771858215, 0.04151945933699608, -0.05657500773668289, -0.021200846880674362, 0.09389421343803406, -0.053266000002622604, 0.03349548950791359, 0.07310359179973602, -0.010477759875357151, 0.030516160652041435, 0.0031025498174130917, -0.08897648006677628, -0.03770797699689865, -0.04630402848124504, -0.02641266956925392, -0.029461082071065903, 0.05675427243113518, 0.002856799867004156, 0.06412481516599655, -0.052435267716646194, -0.03617994487285614, 0.009556945413351059, 0.04497779533267021, -0.030463887378573418, 0.010382283478975296, 0.05111128091812134, -0.06933780014514923, -0.015598238445818424, 0.041700299829244614, 0.07288982719182968, 0.027851222082972527, 0.10267244279384613, -0.015121329575777054, 0.056198153644800186, -0.020520120859146118, 0.03983450308442116, 0.015093679539859295, -0.02232820726931095, -0.11222531646490097, 0.05854326859116554, 0.026832660660147667, 0.04934829846024513, 0.003293595276772976, -0.017652247101068497, 0.008311314508318901, 0.004000087268650532, 0.03679325804114342, -0.08411585539579391, -0.03297930955886841, -0.11860805004835129, -0.01073899120092392, 0.006432775408029556, 0.014500230550765991, 0.04391206055879593, 0.006792428903281689, -0.05281708762049675, -0.006552704609930515, 0.013257483951747417, 0.01461466122418642, -0.10795579105615616, 0.06914027780294418, 0.0695958063006401, 0.03834919631481171, -0.01605941541492939, -0.0029479525983333588, 0.015077837742865086, -0.023990150541067123, -0.0938786044716835, 0.015013694763183594, 0.05216238275170326, 0.04919934272766113, 0.05176209658384323, 0.00136159872636199, -0.05605640634894371, -0.03880612552165985, 0.07531756907701492, -0.05349234491586685, -0.07822640985250473, -0.050513532012701035, -0.0013909031404182315, 0.0063599213026463985, -0.007789676543325186, 0.0481397919356823, 0.09167161583900452, -0.01886785216629505, -0.042813725769519806, -0.006177875213325024, 0.05734454095363617, -0.06527839601039886, -0.008169770240783691, -0.0019698531832545996, -0.008725911378860474, 0.023108504712581635, 0.029422931373119354, -0.044332269579172134, 0.11197084188461304, 0.0988604724407196, 0.01879626139998436, 0.005608296953141689, -0.005200198385864496, 0.008437481708824635, -0.1533951759338379, -0.050300903618335724, 0.025806128978729248, -0.07973509281873703, 0.04557265713810921, -0.028557904064655304, -0.021801600232720375, -0.019212650135159492, -0.10429941117763519, -0.03504946827888489, 0.061471059918403625, -0.027514329180121422, -0.0738881304860115, 0.037279821932315826, -0.014249091036617756, 0.01885271817445755, 0.06179414689540863, 0.02175534889101982, -0.06994594633579254, -0.048098403960466385, -0.054833944886922836, -0.03493544086813927, 0.050461187958717346, -5.254233465513092e-33, -0.029851654544472694, -0.03648091480135918, -0.03218761458992958, 0.11867258697748184, 0.029495151713490486, -0.007226049900054932, -0.010481332428753376, 0.05139347165822983, -0.051601216197013855, -0.03571825474500656, 0.005464819259941578, 0.02556365355849266, 0.014218267053365707, 0.018262654542922974, -0.03827759250998497, 0.07118545472621918, -0.03246060386300087, 0.09677430987358093, -0.034509047865867615, 0.03684903308749199, 0.03167504072189331, -0.061625998467206955, 0.0019574190955609083, -0.05758061632514, -0.007445363327860832, 0.015476985834538937, 0.010187489911913872, -0.05142258107662201, -0.048729583621025085, 0.027714328840374947, 0.06099998205900192, 0.00530971260741353, -0.049419548362493515, 0.023411229252815247, 0.0030587809160351753, 0.10991266369819641, -0.0034463407937437296, -0.06248300522565842, -0.007298923563212156, 0.028432104736566544, -0.03550754114985466, -0.025361813604831696, 0.10549181699752808, 0.008411560207605362, 0.09056618064641953, -0.03241799399256706, -0.013727916404604912, -0.02564777061343193, 0.08803156763315201, 0.03547104448080063, -0.05922397971153259, 0.0018411064520478249, -0.035655584186315536, -0.04132232815027237, -0.0003961384354624897, 0.039846271276474, 0.006040232256054878, 0.048374444246292114, 0.008690920658409595, 0.036153603345155716, -0.03951817378401756, 0.03982289507985115, -0.05575626716017723, 0.03617703542113304, -0.06031300127506256, -0.04368453100323677, -0.11700745671987534, -0.09231902658939362, 0.12328418344259262, -0.024418992921710014, -0.08284899592399597, -0.04357391595840454, -0.004079374950379133, 0.020358091220259666, 0.013597034849226475, -0.021133560687303543, 0.009556181728839874, 0.021685874089598656, -0.07675911486148834, -0.029355468228459358, -0.04614965617656708, -0.05955907702445984, -0.0313304141163826, -0.057184215635061264, -0.03227413445711136, -0.010403478518128395, 0.052269671112298965, -0.07223425805568695, 0.027776138857007027, -0.06137587130069733, -0.038005854934453964, 0.009614297188818455, -0.045014023780822754, -0.03364335000514984, 0.0474587008357048, 2.2132953341510832e-33, -0.03566530719399452, 0.023727238178253174, -0.07273397594690323, 0.03251203894615173, 0.058628980070352554, 0.04714355990290642, 0.12403324246406555, -0.006563238799571991, -0.06861142069101334, 0.08982599526643753, 0.04425696283578873, 0.006484828423708677, -0.00649325642734766, -0.0429270900785923, -0.01257285289466381, -0.01893042027950287, -0.0035636797547340393, -0.061673060059547424, -0.03946763277053833, -0.004015836864709854, -0.09768334031105042, 0.1401221603155136, 0.05720880255103111, 0.03560040518641472, 0.021415283903479576, -0.005568033549934626, -0.011265420354902744, -0.10248193144798279, 0.023352788761258125, 0.031022023409605026, 0.02022825926542282, 0.03718731924891472, -0.14129741489887238, 0.060685355216264725, 0.01842578500509262, -0.1235496997833252, 0.12000257521867752, -0.03375931829214096, -5.840643643750809e-05, 0.02717897854745388, 0.024291563779115677, 0.08474305272102356, 0.017865682020783424, 0.039468612521886826, -0.012467127293348312, 0.024861648678779602, 0.04566647484898567, -0.045841388404369354, 0.04817251116037369, 0.04969313368201256, 0.011607878841459751, -0.03963540494441986, 0.020106490701436996, -0.034343548119068146, -0.02901478484272957, 0.06453979015350342, 0.006537046283483505, -0.028800655156373978, -0.03252330422401428, 0.05939017981290817, 0.007494405377656221, 0.07239306718111038, -0.004589315969496965, 0.05245935916900635, 0.021634850651025772, -0.11842537671327591, -0.07403592020273209, 0.03629184141755104, 0.0025509388651698828, 0.0056528449058532715, 0.0032085375860333443, 0.008258075453341007, -0.03164283186197281, -0.07873868197202682, 0.0680055096745491, -0.13189931213855743, -0.0018100173911079764, -0.0002705081715248525, -0.009671838954091072, -0.02638418599963188, 0.08678128570318222, 0.02552776411175728, -0.050115715712308884, 0.062177691608667374, -0.0005526473978534341, -0.013483697548508644, 0.03213964030146599, 0.026790214702486992, 0.02611171081662178, -0.0021865807939320803, -0.035909611731767654, 0.06903095543384552, -0.0011986586032435298, 0.017338858917355537, -0.026981443166732788, -1.6393958190974445e-08, -0.03138626739382744, -0.028892207890748978, 0.025487547740340233, 0.039075128734111786, -0.04950625076889992, 0.015107446350157261, -0.02645253576338291, 0.001868981053121388, -0.07555768638849258, -0.03881286457180977, 0.04332173243165016, -0.007359929382801056, -0.07293030619621277, 0.0073669664561748505, 0.04292451590299606, -0.04735223576426506, 0.03345922753214836, -0.012159044854342937, -0.05663769319653511, -0.04492143914103508, -0.02563759684562683, 0.02259744517505169, 0.05243375152349472, 0.028232626616954803, 0.01662292331457138, 0.07523508369922638, 0.0900641530752182, 0.1063297837972641, -0.0006434462848119438, -0.022367561236023903, 0.039769187569618225, 0.07947847247123718, 0.024745559319853783, -0.02798914909362793, 0.010741201229393482, 0.09434354305267334, 0.06278470158576965, 0.06977534294128418, 0.031786009669303894, 0.056777071207761765, -0.08608364313840866, -0.02770598977804184, 0.00026332185370847583, 0.0437028706073761, 0.03461647778749466, -0.07917632162570953, -0.08213485032320023, -0.03122653253376484, -0.02807074412703514, -0.09308233857154846, -0.0528733916580677, -0.019386956468224525, 0.048696961253881454, 0.033390942960977554, -0.03298133239150047, 0.041901737451553345, 0.036319077014923096, 0.015312960371375084, -0.062016770243644714, 0.014229781925678253, 0.10864116996526718, 0.09069439768791199, 0.04485074803233147, -0.02693938836455345], [-0.08242824673652649, 0.0035283821634948254, -0.02824116125702858, 0.023394238203763962, 0.006243250332772732, -0.07896999269723892, -0.06357879936695099, 0.047707200050354004, -0.060152843594551086, 0.04424510896205902, 0.074110247194767, 0.015446880832314491, 0.026692651212215424, 0.03246986120939255, -0.06507059931755066, -0.04773695394396782, 0.001435000216588378, 0.005900420248508453, 0.04354158788919449, 0.021633699536323547, 0.03283458203077316, 0.014867430552840233, -0.030333345755934715, -0.014787682332098484, -0.014192511327564716, -0.03857056424021721, -0.07041624933481216, -0.01672213524580002, 0.02325291559100151, -0.07374069094657898, 0.004231354687362909, 0.10612919181585312, -0.014597474597394466, 0.018178874626755714, 0.05685827508568764, 0.02568633295595646, 0.09826342761516571, -0.00758978258818388, 0.01540397945791483, 0.023480990901589394, -0.01304662972688675, -0.06939536333084106, 0.01752493344247341, 0.02355172112584114, 0.02353942207992077, -0.025693567469716072, -0.07204073667526245, -0.013970847241580486, -0.05751870945096016, -0.0007882174104452133, -0.08737160265445709, -0.03499366343021393, -0.04739111661911011, 0.05158647149801254, 0.034055445343256, 0.045714691281318665, 0.019373131915926933, -0.009462778456509113, -0.04499887675046921, 0.014594191685318947, 0.02154897153377533, -0.010137652978301048, -0.09622165560722351, 0.1063258945941925, 0.09390688687562943, 0.09595756232738495, 0.01261480525135994, 0.015975167974829674, 0.00859242957085371, -0.07016646862030029, -0.14006869494915009, 0.023828163743019104, -0.013526364229619503, 0.01977112889289856, 0.05584732070565224, 0.05083514377474785, -0.020741991698741913, -0.04898237809538841, 0.016695210710167885, -0.07538067549467087, -0.05512063577771187, 0.006772626657038927, -0.03055427223443985, -0.02856876142323017, -0.0003875071124639362, 0.09410698711872101, 0.08973921090364456, 0.008919822052121162, -0.04215693473815918, 0.00750953983515501, 0.07207571715116501, -0.02232426404953003, -0.05364631488919258, 0.022092042490839958, -0.03841479867696762, 0.008179416880011559, 0.02502651885151863, -0.02957361750304699, 0.07703670114278793, 0.042067501693964005, 0.025675997138023376, -0.052117910236120224, 0.05439886823296547, 0.019288690760731697, -0.07772193849086761, -0.06021639332175255, 0.01994357258081436, -0.10489808022975922, 0.029612550511956215, -0.0512695387005806, -0.02580110728740692, 0.0155396219342947, -0.040123358368873596, -0.04147501289844513, -0.010304116643965244, 0.008889800868928432, -0.015595529228448868, 0.03690405189990997, 0.035367514938116074, 0.007826485671103, 0.038423091173172, -0.00569271482527256, 0.02369026653468609, -0.023263325914740562, 0.017481833696365356, 0.01899864338338375, 0.047248587012290955, -3.6709156760104124e-33, 0.020173555240035057, -0.040110595524311066, -0.011072030290961266, 0.10620874911546707, 0.039601221680641174, 0.03379983827471733, -0.0044006360694766045, 0.0595158226788044, -0.05627802014350891, -0.04958207905292511, 0.0003339586255606264, 0.0252959243953228, -0.005575883202254772, -0.01187013741582632, -0.046475064009428024, 0.04016115143895149, -0.04411008208990097, 0.11115234345197678, -0.022194212302565575, 0.034889332950115204, 0.07346122711896896, -0.013444390147924423, -0.0399651899933815, -0.08438365161418915, 0.037801217287778854, 0.04651579633355141, 0.007139244582504034, -0.024708574637770653, 0.02110162377357483, 0.032204337418079376, -0.03059615194797516, 0.05219940096139908, -0.11740335822105408, 0.055120375007390976, 0.0037128848489373922, 0.11316043883562088, -0.062413621693849564, -0.0226534903049469, -0.01880788430571556, 0.007780274376273155, -0.05728937312960625, -0.021975938230752945, 0.04246911406517029, -0.0036085026804357767, 0.028394915163517, -0.09236300736665726, -0.06659240275621414, -0.05088979750871658, 0.09782052785158157, -0.02408989891409874, -0.031033646315336227, 0.018816303461790085, 0.016473470255732536, -0.035742174834012985, 0.042394574731588364, 0.040424980223178864, -0.011616655625402927, 0.01673196442425251, 0.03389823064208031, 0.11644953489303589, -8.554929809179157e-05, 0.010507962666451931, -0.0452391617000103, -0.032052572816610336, -0.09941603243350983, 0.0008429022855125368, -0.13651691377162933, -0.09403148293495178, 0.055726438760757446, 0.0651618167757988, -0.06825780868530273, 0.0003558647877071053, 0.010746922343969345, 0.02799641713500023, -0.0016591284656897187, -0.0519181489944458, 0.00027748249704018235, 0.026612233370542526, -0.033998243510723114, -0.03156987577676773, -0.00591519707813859, -0.0777922123670578, -0.013037513941526413, 0.03253490477800369, -0.05112385004758835, -0.08969101309776306, 0.023457717150449753, -0.05134338140487671, -0.05084901675581932, -0.11950258910655975, 0.04373415187001228, 0.05633658170700073, -0.02954491227865219, -0.02884526550769806, 0.03702814504504204, 4.9750227004660895e-34, -0.06202364340424538, 0.013441874645650387, -0.04268554970622063, 0.1551089584827423, -0.019438624382019043, -0.008258515037596226, 0.0601813979446888, 0.038922011852264404, -0.02323603257536888, 0.007988947443664074, 0.019562553614377975, 0.016346348449587822, -0.018712101504206657, -0.015088197775185108, -0.03985372930765152, -0.02601899392902851, -0.0646984651684761, -0.10949975252151489, 0.005765967536717653, 0.042206503450870514, -0.032292354851961136, 0.1831444799900055, 0.01841517724096775, -0.01601269841194153, -0.011086813174188137, -0.023288534954190254, -0.026960158720612526, -0.027298593893647194, -0.05665554478764534, -0.0060461959801614285, 0.04190642386674881, 0.07632599025964737, -0.1754755675792694, 0.06210888922214508, 0.01140302699059248, -0.04633042961359024, 0.13017337024211884, 0.038928575813770294, -0.013036569580435753, -0.006097851321101189, 0.08890976756811142, 0.08891581743955612, 0.054391760379076004, -0.017823167145252228, 0.004268993623554707, 0.061799779534339905, 0.037787213921546936, -0.03399065136909485, 0.042009253054857254, 0.03059721179306507, 0.03421665355563164, -0.04751509055495262, 0.02869144268333912, -0.010953603312373161, -0.05239081010222435, 0.006709812209010124, -0.05110780522227287, -0.06838247925043106, -0.027386093512177467, 0.028548792004585266, -0.0641348659992218, 0.0717037171125412, -0.03748871386051178, 0.09395039826631546, -0.01311427541077137, -0.07351957261562347, -0.06925054639577866, 0.024372145533561707, 0.030659394338726997, 0.0185376163572073, 0.030085982754826546, -0.02476384863257408, 0.0037785496097058058, -0.043554458767175674, 0.08412472903728485, -0.08048629015684128, 0.005933623760938644, -0.07649897783994675, 0.013770639896392822, -0.04747634381055832, -0.011332246474921703, -0.034044913947582245, -0.01485471148043871, 0.06747283786535263, -0.04253512620925903, 0.031610917299985886, 0.05685315653681755, 0.021405868232250214, -0.014343681745231152, 0.01258126087486744, -0.055435895919799805, 0.03308564051985741, -0.03421332314610481, 0.0039058129768818617, 0.02724202163517475, -2.0642879405841086e-08, -0.032820478081703186, -0.0490233451128006, -0.010937443934381008, -0.02854277193546295, -0.046811316162347794, 0.023346584290266037, -0.0019901455380022526, 0.01762610673904419, -0.04648718610405922, -0.009079588577151299, 0.03813238814473152, 0.02706027589738369, -0.017254602164030075, -0.004112205468118191, 0.05738431587815285, -0.027877219021320343, 0.03474312275648117, 0.0295352004468441, -0.07026351988315582, 0.005894531030207872, -0.01739145815372467, 0.07345731556415558, 0.0726005882024765, -0.028917556628584862, 0.005194169003516436, 0.08528241515159607, 0.06397464871406555, 0.07963971793651581, 0.028510671108961105, -0.0894065722823143, 0.03736034780740738, 0.07189301401376724, -0.01121283508837223, -0.06102331727743149, 0.06824313849210739, 0.1280781775712967, 0.02039209194481373, 0.07812836021184921, 0.011457563377916813, 0.053191009908914566, -0.11833131313323975, -0.03336593508720398, -0.0029444866813719273, 0.031314633786678314, 0.03294716402888298, -0.0884774774312973, -0.05615071579813957, -0.00863222312182188, -0.03671800345182419, -0.05301697924733162, 0.0023351944983005524, -0.01921217329800129, 0.0310854259878397, 0.0153939388692379, -0.03529765084385872, 0.053767088800668716, 0.05221293121576309, -0.008762042969465256, -0.017885465174913406, -0.02857300452888012, 0.08353901654481888, 0.09381770342588425, 0.07756674289703369, 0.043837886303663254]]\n",
      "2\n"
     ]
    }
   ],
   "source": [
    "query3 = embeddings.embed_documents([text_docs, \"This is another docs for testings.\"])\n",
    "print(query3)\n",
    "print(len(query3))"
   ]
  },
  {
   "cell_type": "markdown",
   "metadata": {},
   "source": [
    "## VectoreStore FAISS"
   ]
  },
  {
   "cell_type": "code",
   "execution_count": 10,
   "metadata": {},
   "outputs": [],
   "source": [
    "# this will help to load the text file\n",
    "from langchain_community.document_loaders import TextLoader\n",
    "# this will help to store text vectore in FAISS store databse\n",
    "from langchain_community.vectorstores import FAISS\n",
    "## this will help to convert text to vectore\n",
    "from langchain_community.embeddings import OllamaEmbeddings\n",
    "# this will help to split the text\n",
    "from langchain_text_splitters import CharacterTextSplitter\n",
    "\n",
    "## load the text file\n",
    "loader = TextLoader(\"data/story.txt\")\n"
   ]
  },
  {
   "cell_type": "code",
   "execution_count": 11,
   "metadata": {},
   "outputs": [],
   "source": [
    "## load and read the text\n",
    "document =loader.load()\n",
    "## split the text documnets\n",
    "text_splitter = CharacterTextSplitter(chunk_size=200, chunk_overlap=30)\n",
    "## now it split the text\n",
    "docs = text_splitter.split_documents(document)"
   ]
  },
  {
   "cell_type": "code",
   "execution_count": 12,
   "metadata": {},
   "outputs": [
    {
     "data": {
      "text/plain": [
       "<langchain_community.vectorstores.faiss.FAISS at 0x7daba046bb00>"
      ]
     },
     "execution_count": 12,
     "metadata": {},
     "output_type": "execute_result"
    }
   ],
   "source": [
    "## i will not be using OllamaEmbedding here because i have not installed Ollama in my machine\n",
    "# so this is been usign HuggingFaceEmbeddings\n",
    "embeddings = HuggingFaceEmbeddings()\n",
    "db = FAISS.from_documents(docs, embeddings)\n",
    "db"
   ]
  },
  {
   "cell_type": "code",
   "execution_count": 13,
   "metadata": {},
   "outputs": [
    {
     "data": {
      "text/plain": [
       "[Document(metadata={'source': 'data/story.txt'}, page_content=\"time, in a lush green forest, there lived a speedy rabbit and a slow-moving turtle. The rabbit, confident in his speed, often boasted about how fast he could run. The turtle, tired of the rabbit's bragging, challenged him to a race.\\nThe other animals gathered to watch. They were curious to see if the slow turtle could beat the quick rabbit. With a wink and a grin, the rabbit accepted the challenge. They decided to race to the big oak tree on the other side of the meadow.\\non the day of the race, the rabbit zoomed off as soon as the signal was given. He dashed ahead, laughing at how far he was pulling away from the turtle. Feeling overly confident, the rabbit decided to take a nap under a shady tree, believing he had plenty of time to spare.\\nMeanwhile, the turtle ambled along at his slow but steady pace. He didn’t stop or get distracted. As he passed by the sleeping rabbit, he thought about how determination and perseverance mattered, even if he was much slower.\\nAfter a while, the rabbit woke up and stretched, realizing he had slept longer than he intended. Panicking, he raced towards the finish line, only to find that the turtle was almost there.\\nWith all his might, the rabbit sprinted, but it was too late. The turtle crossed the finish line just as the rabbit reached him. The forest erupted in cheers for the turtle!\\nOut of breath and embarrassed, the rabbit learned a valuable lesson: overconfidence can lead to failure. The turtle smiled and said, “Slow and steady wins the race.” From that day on, the rabbit learned to respect the abilities of others and remembered that consistent effort often triumphs over sheer speed.\\nAnd so, the forest animals celebrated the turtle’s victory, reminding everyone that determination and perseverance are just as important as speed. \\nThe end.\")]"
      ]
     },
     "execution_count": 13,
     "metadata": {},
     "output_type": "execute_result"
    }
   ],
   "source": [
    "## querying\n",
    "query  = \"rabbit woke up and stretched, and what is he realized\"\n",
    "result = db.similarity_search(query)\n",
    "result"
   ]
  },
  {
   "cell_type": "code",
   "execution_count": 14,
   "metadata": {},
   "outputs": [
    {
     "data": {
      "text/plain": [
       "\"time, in a lush green forest, there lived a speedy rabbit and a slow-moving turtle. The rabbit, confident in his speed, often boasted about how fast he could run. The turtle, tired of the rabbit's bragging, challenged him to a race.\\nThe other animals gathered to watch. They were curious to see if the slow turtle could beat the quick rabbit. With a wink and a grin, the rabbit accepted the challenge. They decided to race to the big oak tree on the other side of the meadow.\\non the day of the race, the rabbit zoomed off as soon as the signal was given. He dashed ahead, laughing at how far he was pulling away from the turtle. Feeling overly confident, the rabbit decided to take a nap under a shady tree, believing he had plenty of time to spare.\\nMeanwhile, the turtle ambled along at his slow but steady pace. He didn’t stop or get distracted. As he passed by the sleeping rabbit, he thought about how determination and perseverance mattered, even if he was much slower.\\nAfter a while, the rabbit woke up and stretched, realizing he had slept longer than he intended. Panicking, he raced towards the finish line, only to find that the turtle was almost there.\\nWith all his might, the rabbit sprinted, but it was too late. The turtle crossed the finish line just as the rabbit reached him. The forest erupted in cheers for the turtle!\\nOut of breath and embarrassed, the rabbit learned a valuable lesson: overconfidence can lead to failure. The turtle smiled and said, “Slow and steady wins the race.” From that day on, the rabbit learned to respect the abilities of others and remembered that consistent effort often triumphs over sheer speed.\\nAnd so, the forest animals celebrated the turtle’s victory, reminding everyone that determination and perseverance are just as important as speed. \\nThe end.\""
      ]
     },
     "execution_count": 14,
     "metadata": {},
     "output_type": "execute_result"
    }
   ],
   "source": [
    "## page content\n",
    "result[0].page_content"
   ]
  },
  {
   "cell_type": "markdown",
   "metadata": {},
   "source": [
    "## Retriver"
   ]
  },
  {
   "cell_type": "code",
   "execution_count": 15,
   "metadata": {},
   "outputs": [
    {
     "data": {
      "text/plain": [
       "\"time, in a lush green forest, there lived a speedy rabbit and a slow-moving turtle. The rabbit, confident in his speed, often boasted about how fast he could run. The turtle, tired of the rabbit's bragging, challenged him to a race.\\nThe other animals gathered to watch. They were curious to see if the slow turtle could beat the quick rabbit. With a wink and a grin, the rabbit accepted the challenge. They decided to race to the big oak tree on the other side of the meadow.\\non the day of the race, the rabbit zoomed off as soon as the signal was given. He dashed ahead, laughing at how far he was pulling away from the turtle. Feeling overly confident, the rabbit decided to take a nap under a shady tree, believing he had plenty of time to spare.\\nMeanwhile, the turtle ambled along at his slow but steady pace. He didn’t stop or get distracted. As he passed by the sleeping rabbit, he thought about how determination and perseverance mattered, even if he was much slower.\\nAfter a while, the rabbit woke up and stretched, realizing he had slept longer than he intended. Panicking, he raced towards the finish line, only to find that the turtle was almost there.\\nWith all his might, the rabbit sprinted, but it was too late. The turtle crossed the finish line just as the rabbit reached him. The forest erupted in cheers for the turtle!\\nOut of breath and embarrassed, the rabbit learned a valuable lesson: overconfidence can lead to failure. The turtle smiled and said, “Slow and steady wins the race.” From that day on, the rabbit learned to respect the abilities of others and remembered that consistent effort often triumphs over sheer speed.\\nAnd so, the forest animals celebrated the turtle’s victory, reminding everyone that determination and perseverance are just as important as speed. \\nThe end.\""
      ]
     },
     "execution_count": 15,
     "metadata": {},
     "output_type": "execute_result"
    }
   ],
   "source": [
    "retriver = db.as_retriever()\n",
    "result = retriver.invoke(query)\n",
    "result[0].page_content"
   ]
  },
  {
   "cell_type": "markdown",
   "metadata": {},
   "source": [
    "## Similarity search with score"
   ]
  },
  {
   "cell_type": "code",
   "execution_count": 16,
   "metadata": {},
   "outputs": [
    {
     "data": {
      "text/plain": [
       "[(Document(metadata={'source': 'data/story.txt'}, page_content=\"time, in a lush green forest, there lived a speedy rabbit and a slow-moving turtle. The rabbit, confident in his speed, often boasted about how fast he could run. The turtle, tired of the rabbit's bragging, challenged him to a race.\\nThe other animals gathered to watch. They were curious to see if the slow turtle could beat the quick rabbit. With a wink and a grin, the rabbit accepted the challenge. They decided to race to the big oak tree on the other side of the meadow.\\non the day of the race, the rabbit zoomed off as soon as the signal was given. He dashed ahead, laughing at how far he was pulling away from the turtle. Feeling overly confident, the rabbit decided to take a nap under a shady tree, believing he had plenty of time to spare.\\nMeanwhile, the turtle ambled along at his slow but steady pace. He didn’t stop or get distracted. As he passed by the sleeping rabbit, he thought about how determination and perseverance mattered, even if he was much slower.\\nAfter a while, the rabbit woke up and stretched, realizing he had slept longer than he intended. Panicking, he raced towards the finish line, only to find that the turtle was almost there.\\nWith all his might, the rabbit sprinted, but it was too late. The turtle crossed the finish line just as the rabbit reached him. The forest erupted in cheers for the turtle!\\nOut of breath and embarrassed, the rabbit learned a valuable lesson: overconfidence can lead to failure. The turtle smiled and said, “Slow and steady wins the race.” From that day on, the rabbit learned to respect the abilities of others and remembered that consistent effort often triumphs over sheer speed.\\nAnd so, the forest animals celebrated the turtle’s victory, reminding everyone that determination and perseverance are just as important as speed. \\nThe end.\"),\n",
       "  0.9921094)]"
      ]
     },
     "execution_count": 16,
     "metadata": {},
     "output_type": "execute_result"
    }
   ],
   "source": [
    "## it will result with similarity score\n",
    "docs_and_score = db.similarity_search_with_score(query)\n",
    "docs_and_score"
   ]
  },
  {
   "cell_type": "code",
   "execution_count": 17,
   "metadata": {},
   "outputs": [
    {
     "name": "stdout",
     "output_type": "stream",
     "text": [
      "768\n"
     ]
    }
   ],
   "source": [
    "embedding_vector=embeddings.embed_query(query)\n",
    "print(len(embedding_vector))"
   ]
  },
  {
   "cell_type": "code",
   "execution_count": 18,
   "metadata": {},
   "outputs": [
    {
     "data": {
      "text/plain": [
       "\"time, in a lush green forest, there lived a speedy rabbit and a slow-moving turtle. The rabbit, confident in his speed, often boasted about how fast he could run. The turtle, tired of the rabbit's bragging, challenged him to a race.\\nThe other animals gathered to watch. They were curious to see if the slow turtle could beat the quick rabbit. With a wink and a grin, the rabbit accepted the challenge. They decided to race to the big oak tree on the other side of the meadow.\\non the day of the race, the rabbit zoomed off as soon as the signal was given. He dashed ahead, laughing at how far he was pulling away from the turtle. Feeling overly confident, the rabbit decided to take a nap under a shady tree, believing he had plenty of time to spare.\\nMeanwhile, the turtle ambled along at his slow but steady pace. He didn’t stop or get distracted. As he passed by the sleeping rabbit, he thought about how determination and perseverance mattered, even if he was much slower.\\nAfter a while, the rabbit woke up and stretched, realizing he had slept longer than he intended. Panicking, he raced towards the finish line, only to find that the turtle was almost there.\\nWith all his might, the rabbit sprinted, but it was too late. The turtle crossed the finish line just as the rabbit reached him. The forest erupted in cheers for the turtle!\\nOut of breath and embarrassed, the rabbit learned a valuable lesson: overconfidence can lead to failure. The turtle smiled and said, “Slow and steady wins the race.” From that day on, the rabbit learned to respect the abilities of others and remembered that consistent effort often triumphs over sheer speed.\\nAnd so, the forest animals celebrated the turtle’s victory, reminding everyone that determination and perseverance are just as important as speed. \\nThe end.\""
      ]
     },
     "execution_count": 18,
     "metadata": {},
     "output_type": "execute_result"
    }
   ],
   "source": [
    "## query by vectoy\n",
    "docs = db.similarity_search_by_vector(embedding_vector)\n",
    "docs[0].page_content"
   ]
  },
  {
   "cell_type": "markdown",
   "metadata": {},
   "source": [
    "## saving and loading"
   ]
  },
  {
   "cell_type": "code",
   "execution_count": 19,
   "metadata": {},
   "outputs": [],
   "source": [
    "## save this faiss db in local machine\n",
    "db.save_local('faiss_index')"
   ]
  },
  {
   "cell_type": "code",
   "execution_count": 20,
   "metadata": {},
   "outputs": [],
   "source": [
    "## load this saved faiss db form local machine\n",
    "new_db  =FAISS.load_local('faiss_index', embeddings, allow_dangerous_deserialization=True)"
   ]
  },
  {
   "cell_type": "code",
   "execution_count": 21,
   "metadata": {},
   "outputs": [
    {
     "data": {
      "text/plain": [
       "\"time, in a lush green forest, there lived a speedy rabbit and a slow-moving turtle. The rabbit, confident in his speed, often boasted about how fast he could run. The turtle, tired of the rabbit's bragging, challenged him to a race.\\nThe other animals gathered to watch. They were curious to see if the slow turtle could beat the quick rabbit. With a wink and a grin, the rabbit accepted the challenge. They decided to race to the big oak tree on the other side of the meadow.\\non the day of the race, the rabbit zoomed off as soon as the signal was given. He dashed ahead, laughing at how far he was pulling away from the turtle. Feeling overly confident, the rabbit decided to take a nap under a shady tree, believing he had plenty of time to spare.\\nMeanwhile, the turtle ambled along at his slow but steady pace. He didn’t stop or get distracted. As he passed by the sleeping rabbit, he thought about how determination and perseverance mattered, even if he was much slower.\\nAfter a while, the rabbit woke up and stretched, realizing he had slept longer than he intended. Panicking, he raced towards the finish line, only to find that the turtle was almost there.\\nWith all his might, the rabbit sprinted, but it was too late. The turtle crossed the finish line just as the rabbit reached him. The forest erupted in cheers for the turtle!\\nOut of breath and embarrassed, the rabbit learned a valuable lesson: overconfidence can lead to failure. The turtle smiled and said, “Slow and steady wins the race.” From that day on, the rabbit learned to respect the abilities of others and remembered that consistent effort often triumphs over sheer speed.\\nAnd so, the forest animals celebrated the turtle’s victory, reminding everyone that determination and perseverance are just as important as speed. \\nThe end.\""
      ]
     },
     "execution_count": 21,
     "metadata": {},
     "output_type": "execute_result"
    }
   ],
   "source": [
    "docs = new_db.similarity_search_by_vector(embedding_vector)\n",
    "docs[0].page_content"
   ]
  },
  {
   "cell_type": "markdown",
   "metadata": {},
   "source": [
    "## ChromaDB"
   ]
  },
  {
   "cell_type": "code",
   "execution_count": 22,
   "metadata": {},
   "outputs": [],
   "source": [
    "## in my local pc sqllite3 was not supported so then below code is the solution of this problems\n",
    "__import__('pysqlite3')\n",
    "import sys\n",
    "sys.modules['sqlite3'] = sys.modules.pop('pysqlite3')\n",
    "\n",
    "## building same vector db\n",
    "from langchain_chroma import Chroma"
   ]
  },
  {
   "cell_type": "code",
   "execution_count": 23,
   "metadata": {},
   "outputs": [],
   "source": [
    "## building a sample vectores\n",
    "from langchain_community.document_loaders import TextLoader\n",
    "from langchain_community.embeddings import HuggingFaceHubEmbeddings, OllamaEmbeddings\n",
    "from langchain_text_splitters import RecursiveCharacterTextSplitter"
   ]
  },
  {
   "cell_type": "code",
   "execution_count": 24,
   "metadata": {},
   "outputs": [
    {
     "data": {
      "text/plain": [
       "[Document(metadata={'source': 'data/story.txt'}, page_content=\"time, in a lush green forest, there lived a speedy rabbit and a slow-moving turtle. The rabbit, confident in his speed, often boasted about how fast he could run. The turtle, tired of the rabbit's bragging, challenged him to a race.\\nThe other animals gathered to watch. They were curious to see if the slow turtle could beat the quick rabbit. With a wink and a grin, the rabbit accepted the challenge. They decided to race to the big oak tree on the other side of the meadow.\\non the day of the race, the rabbit zoomed off as soon as the signal was given. He dashed ahead, laughing at how far he was pulling away from the turtle. Feeling overly confident, the rabbit decided to take a nap under a shady tree, believing he had plenty of time to spare.\\nMeanwhile, the turtle ambled along at his slow but steady pace. He didn’t stop or get distracted. As he passed by the sleeping rabbit, he thought about how determination and perseverance mattered, even if he was much slower.\\nAfter a while, the rabbit woke up and stretched, realizing he had slept longer than he intended. Panicking, he raced towards the finish line, only to find that the turtle was almost there.\\nWith all his might, the rabbit sprinted, but it was too late. The turtle crossed the finish line just as the rabbit reached him. The forest erupted in cheers for the turtle!\\nOut of breath and embarrassed, the rabbit learned a valuable lesson: overconfidence can lead to failure. The turtle smiled and said, “Slow and steady wins the race.” From that day on, the rabbit learned to respect the abilities of others and remembered that consistent effort often triumphs over sheer speed.\\nAnd so, the forest animals celebrated the turtle’s victory, reminding everyone that determination and perseverance are just as important as speed. \\nThe end.\")]"
      ]
     },
     "execution_count": 24,
     "metadata": {},
     "output_type": "execute_result"
    }
   ],
   "source": [
    "loader = TextLoader('data/story.txt')\n",
    "data=loader.load()\n",
    "data"
   ]
  },
  {
   "cell_type": "code",
   "execution_count": 25,
   "metadata": {},
   "outputs": [
    {
     "data": {
      "text/plain": [
       "[Document(metadata={'source': 'data/story.txt'}, page_content=\"time, in a lush green forest, there lived a speedy rabbit and a slow-moving turtle. The rabbit, confident in his speed, often boasted about how fast he could run. The turtle, tired of the rabbit's bragging, challenged him to a race.\\nThe other animals gathered to watch. They were curious to see if the slow turtle could beat the quick rabbit. With a wink and a grin, the rabbit accepted the challenge. They decided to race to the big oak tree on the other side of the meadow.\"),\n",
       " Document(metadata={'source': 'data/story.txt'}, page_content='on the day of the race, the rabbit zoomed off as soon as the signal was given. He dashed ahead, laughing at how far he was pulling away from the turtle. Feeling overly confident, the rabbit decided to take a nap under a shady tree, believing he had plenty of time to spare.\\nMeanwhile, the turtle ambled along at his slow but steady pace. He didn’t stop or get distracted. As he passed by the sleeping rabbit, he thought about how determination and perseverance mattered, even if he was much slower.'),\n",
       " Document(metadata={'source': 'data/story.txt'}, page_content='After a while, the rabbit woke up and stretched, realizing he had slept longer than he intended. Panicking, he raced towards the finish line, only to find that the turtle was almost there.\\nWith all his might, the rabbit sprinted, but it was too late. The turtle crossed the finish line just as the rabbit reached him. The forest erupted in cheers for the turtle!'),\n",
       " Document(metadata={'source': 'data/story.txt'}, page_content='Out of breath and embarrassed, the rabbit learned a valuable lesson: overconfidence can lead to failure. The turtle smiled and said, “Slow and steady wins the race.” From that day on, the rabbit learned to respect the abilities of others and remembered that consistent effort often triumphs over sheer speed.\\nAnd so, the forest animals celebrated the turtle’s victory, reminding everyone that determination and perseverance are just as important as speed. \\nThe end.')]"
      ]
     },
     "execution_count": 25,
     "metadata": {},
     "output_type": "execute_result"
    }
   ],
   "source": [
    "## text spltter\n",
    "text_splitter = RecursiveCharacterTextSplitter(chunk_size=500, chunk_overlap=0)\n",
    "splits = text_splitter.split_documents(data)\n",
    "splits"
   ]
  },
  {
   "cell_type": "code",
   "execution_count": 26,
   "metadata": {},
   "outputs": [
    {
     "data": {
      "text/plain": [
       "<langchain_chroma.vectorstores.Chroma at 0x7daba21a2750>"
      ]
     },
     "execution_count": 26,
     "metadata": {},
     "output_type": "execute_result"
    }
   ],
   "source": [
    "## create vector store\n",
    "embeddings = HuggingFaceEmbeddings()\n",
    "vectordb = Chroma.from_documents(documents=splits, embedding=embeddings)\n",
    "vectordb"
   ]
  },
  {
   "cell_type": "code",
   "execution_count": 27,
   "metadata": {},
   "outputs": [
    {
     "data": {
      "text/plain": [
       "'on the day of the race, the rabbit zoomed off as soon as the signal was given. He dashed ahead, laughing at how far he was pulling away from the turtle. Feeling overly confident, the rabbit decided to take a nap under a shady tree, believing he had plenty of time to spare.\\nMeanwhile, the turtle ambled along at his slow but steady pace. He didn’t stop or get distracted. As he passed by the sleeping rabbit, he thought about how determination and perseverance mattered, even if he was much slower.'"
      ]
     },
     "execution_count": 27,
     "metadata": {},
     "output_type": "execute_result"
    }
   ],
   "source": [
    "query = 'rabbit woke up and stretched, and what is he realized'\n",
    "docs = vectordb.similarity_search(query)\n",
    "docs[0].page_content"
   ]
  },
  {
   "cell_type": "code",
   "execution_count": 28,
   "metadata": {},
   "outputs": [],
   "source": [
    "## save the vectordb in in local machine in particular directory\n",
    "vectordb = Chroma.from_documents(documents=splits, embedding=embeddings, persist_directory=\"./chroma_db\")"
   ]
  },
  {
   "cell_type": "code",
   "execution_count": 29,
   "metadata": {},
   "outputs": [
    {
     "name": "stdout",
     "output_type": "stream",
     "text": [
      "on the day of the race, the rabbit zoomed off as soon as the signal was given. He dashed ahead, laughing at how far he was pulling away from the turtle. Feeling overly confident, the rabbit decided to take a nap under a shady tree, believing he had plenty of time to spare.\n",
      "Meanwhile, the turtle ambled along at his slow but steady pace. He didn’t stop or get distracted. As he passed by the sleeping rabbit, he thought about how determination and perseverance mattered, even if he was much slower.\n"
     ]
    }
   ],
   "source": [
    "new_vectordb = Chroma(persist_directory='./chroma_db', embedding_function=embeddings)\n",
    "query_result = new_vectordb.similarity_search(query=query)\n",
    "print(query_result[0].page_content)"
   ]
  },
  {
   "cell_type": "code",
   "execution_count": 30,
   "metadata": {},
   "outputs": [
    {
     "data": {
      "text/plain": [
       "[(Document(metadata={'source': 'data/story.txt'}, page_content='on the day of the race, the rabbit zoomed off as soon as the signal was given. He dashed ahead, laughing at how far he was pulling away from the turtle. Feeling overly confident, the rabbit decided to take a nap under a shady tree, believing he had plenty of time to spare.\\nMeanwhile, the turtle ambled along at his slow but steady pace. He didn’t stop or get distracted. As he passed by the sleeping rabbit, he thought about how determination and perseverance mattered, even if he was much slower.'),\n",
       "  0.8649135701278006),\n",
       " (Document(metadata={'source': 'data/story.txt'}, page_content='on the day of the race, the rabbit zoomed off as soon as the signal was given. He dashed ahead, laughing at how far he was pulling away from the turtle. Feeling overly confident, the rabbit decided to take a nap under a shady tree, believing he had plenty of time to spare.\\nMeanwhile, the turtle ambled along at his slow but steady pace. He didn’t stop or get distracted. As he passed by the sleeping rabbit, he thought about how determination and perseverance mattered, even if he was much slower.'),\n",
       "  0.8649135701278006),\n",
       " (Document(metadata={'source': 'data/story.txt'}, page_content='After a while, the rabbit woke up and stretched, realizing he had slept longer than he intended. Panicking, he raced towards the finish line, only to find that the turtle was almost there.\\nWith all his might, the rabbit sprinted, but it was too late. The turtle crossed the finish line just as the rabbit reached him. The forest erupted in cheers for the turtle!'),\n",
       "  0.8992118759845471),\n",
       " (Document(metadata={'source': 'data/story.txt'}, page_content='After a while, the rabbit woke up and stretched, realizing he had slept longer than he intended. Panicking, he raced towards the finish line, only to find that the turtle was almost there.\\nWith all his might, the rabbit sprinted, but it was too late. The turtle crossed the finish line just as the rabbit reached him. The forest erupted in cheers for the turtle!'),\n",
       "  0.8992118759845471)]"
      ]
     },
     "execution_count": 30,
     "metadata": {},
     "output_type": "execute_result"
    }
   ],
   "source": [
    "## similarity search with socre\n",
    "result_with_score = new_vectordb.similarity_search_with_score(query=query)\n",
    "result_with_score"
   ]
  },
  {
   "cell_type": "code",
   "execution_count": 31,
   "metadata": {},
   "outputs": [
    {
     "data": {
      "text/plain": [
       "'on the day of the race, the rabbit zoomed off as soon as the signal was given. He dashed ahead, laughing at how far he was pulling away from the turtle. Feeling overly confident, the rabbit decided to take a nap under a shady tree, believing he had plenty of time to spare.\\nMeanwhile, the turtle ambled along at his slow but steady pace. He didn’t stop or get distracted. As he passed by the sleeping rabbit, he thought about how determination and perseverance mattered, even if he was much slower.'"
      ]
     },
     "execution_count": 31,
     "metadata": {},
     "output_type": "execute_result"
    }
   ],
   "source": [
    "retriever = new_vectordb.as_retriever(query=query)\n",
    "retr_result = retriever.invoke(query)\n",
    "retr_result[0].page_content"
   ]
  },
  {
   "cell_type": "code",
   "execution_count": null,
   "metadata": {},
   "outputs": [],
   "source": []
  },
  {
   "cell_type": "code",
   "execution_count": null,
   "metadata": {},
   "outputs": [],
   "source": []
  },
  {
   "cell_type": "code",
   "execution_count": null,
   "metadata": {},
   "outputs": [],
   "source": []
  },
  {
   "cell_type": "code",
   "execution_count": null,
   "metadata": {},
   "outputs": [],
   "source": []
  },
  {
   "cell_type": "code",
   "execution_count": null,
   "metadata": {},
   "outputs": [],
   "source": []
  },
  {
   "cell_type": "code",
   "execution_count": null,
   "metadata": {},
   "outputs": [],
   "source": []
  },
  {
   "cell_type": "code",
   "execution_count": null,
   "metadata": {},
   "outputs": [],
   "source": []
  },
  {
   "cell_type": "code",
   "execution_count": null,
   "metadata": {},
   "outputs": [],
   "source": []
  }
 ],
 "metadata": {
  "kernelspec": {
   "display_name": "Python 3",
   "language": "python",
   "name": "python3"
  },
  "language_info": {
   "codemirror_mode": {
    "name": "ipython",
    "version": 3
   },
   "file_extension": ".py",
   "mimetype": "text/x-python",
   "name": "python",
   "nbconvert_exporter": "python",
   "pygments_lexer": "ipython3",
   "version": "3.12.1"
  }
 },
 "nbformat": 4,
 "nbformat_minor": 2
}
